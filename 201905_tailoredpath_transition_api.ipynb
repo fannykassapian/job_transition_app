{
 "cells": [
  {
   "cell_type": "markdown",
   "metadata": {},
   "source": [
    "# Data wrangling and functions for [tailoredpath.com/transition.html](https://tailoredpath.com/transition.html)\n",
    "***\n",
    "\n",
    "\n",
    "# Table of contents:\n",
    "\n",
    "1. [Import libraries and load files](#1)\n",
    "2. [Data wrangling](#2)\n",
    "3. [Comparison functions](#3)\n",
    "    1. [Education](#3A)\n",
    "        1. [Functions](#3Aa)\n",
    "        2. [Visualization with Matplotlib](#3Ab)\n",
    "        3. [Prepare data for visualization with Chart.js](#3Ac)\n",
    "    2. [Experience](#3B)\n",
    "        1. [Functions](#3Ba)\n",
    "    3. [Skills](#3C)\n",
    "        1. [Functions](#3Ca)\n",
    "        2. [Visualization with Matplotlib](#3Cb)\n",
    "        3. [Prepare data for visualization with Chart.js](#3Cc)  \n",
    "    4. [Knowledge](#3D)\n",
    "        1. [Functions](#3Da)\n",
    "        2. [Visualization with Matplotlib](#3Db)\n",
    "        3. [Prepare data for visualization with Chart.js](#3Dc)\n",
    "    5. [Estimated transition difficulty](#3E)\n",
    "    5. [Generate & export Json](#3F)\n",
    "    \n",
    "    \n",
    "# Purpose of this notebook:\n",
    "\n",
    "This notebook contains the baseline for the Python script that runs on the **[interactive web app: tailoredpath.com/transition](https://tailoredpath.com/transition.html)**. \n",
    "\n",
    "The app accesses the data via an API built with [Python Flask](http://flask.pocoo.org/). The charts were developped with [Chart.js](https://www.chartjs.org/).\n",
    "\n",
    "This notebook reproduces these visualizations with matplotlib.\n",
    "\n",
    "\n",
    "# Data:\n",
    "\n",
    "The [ONET program](https://www.onetcenter.org/overview.html) is the primary source of occupational information in the US. \n",
    "\n",
    "For each job, ONET rates the importance and level of all skills, knowledge and abilities, along with the required levels of education and experience. This data is available on their [resource center](https://www.onetcenter.org/database.html#individual-files).\n",
    "\n",
    "More specifically, this notebook uses the following datasets:\n",
    "- [Knowledge.xlsx](https://www.onetcenter.org/dictionary/23.3/excel/knowledge.html)\n",
    "- [Skills.xlsx](https://www.onetcenter.org/dictionary/23.3/excel/skills.html)\n",
    "- [Education, Training, and Experience.xlsx](https://www.onetcenter.org/dictionary/23.3/excel/education_training_experience.html)\n",
    "- [Education, Training, and Experience Categories.xlsx](https://www.onetcenter.org/dictionary/23.3/excel/ete_categories.html)\n",
    "- [Job Zones.xlsx](https://www.onetcenter.org/dictionary/23.3/excel/job_zones.html)"
   ]
  },
  {
   "cell_type": "markdown",
   "metadata": {},
   "source": [
    "# 1. Import libraries and load files <a name=\"1\"></a>"
   ]
  },
  {
   "cell_type": "code",
   "execution_count": 1,
   "metadata": {},
   "outputs": [],
   "source": [
    "# Import libraries\n",
    "\n",
    "import pandas as pd\n",
    "pd.set_option(\"display.max_columns\", 101)\n",
    "import numpy as np\n",
    "import seaborn as sns\n",
    "import matplotlib.pyplot as plt"
   ]
  },
  {
   "cell_type": "code",
   "execution_count": 3,
   "metadata": {},
   "outputs": [],
   "source": [
    "# Load files\n",
    "\n",
    "skills = pd.read_excel('../../../../Documents/tailoredpath/databases/ONET/Skills.xlsx')\n",
    "knowledge = pd.read_excel('../../../../Documents/tailoredpath/databases/ONET/Knowledge.xlsx')\n",
    "education_experience = pd.read_excel('../../../../Documents/tailoredpath/databases/ONET/Education, Training, and Experience.xlsx')\n",
    "job_zones = pd.read_excel('../../../../Documents/tailoredpath/databases/ONET/Job Zones.xlsx')\n",
    "e_categories = pd.read_excel('../../../../Documents/tailoredpath/databases/ONET/Education, Training, and Experience Categories.xlsx')"
   ]
  },
  {
   "cell_type": "markdown",
   "metadata": {},
   "source": [
    "# 2. Data wrangling <a name=\"2\"></a>"
   ]
  },
  {
   "cell_type": "code",
   "execution_count": 4,
   "metadata": {},
   "outputs": [],
   "source": [
    "# Filter job zones\n",
    "\n",
    "jobzone345 = job_zones[job_zones['Job Zone'].isin([3,4,5])]['O*NET-SOC Code'].tolist()\n",
    "\n",
    "def filter_job_zones(df):\n",
    "    return df[df['O*NET-SOC Code'].isin(jobzone345)]"
   ]
  },
  {
   "cell_type": "code",
   "execution_count": 5,
   "metadata": {},
   "outputs": [],
   "source": [
    "skills = filter_job_zones(skills)\n",
    "knowledge = filter_job_zones(knowledge)\n",
    "education_experience = filter_job_zones(education_experience)"
   ]
  },
  {
   "cell_type": "code",
   "execution_count": 6,
   "metadata": {},
   "outputs": [],
   "source": [
    "# Filter columns\n",
    "\n",
    "# Columns to keep for skills & knowledge\n",
    "\n",
    "cols_to_keep = [\n",
    "    'O*NET-SOC Code', \n",
    "    'Title', \n",
    "    'Element Name', \n",
    "    'Scale ID',\n",
    "    'Data Value'\n",
    "]\n",
    "\n",
    "# Columns to keep for education_experience\n",
    "\n",
    "cols_to_keep_ee = [\n",
    "    'O*NET-SOC Code', \n",
    "    'Title', \n",
    "    'Scale ID',\n",
    "    'Category',\n",
    "    'Data Value'\n",
    "]\n",
    "\n",
    "def filter_columns(df, lc):\n",
    "    return df[lc].copy()"
   ]
  },
  {
   "cell_type": "code",
   "execution_count": 7,
   "metadata": {},
   "outputs": [],
   "source": [
    "skills = filter_columns(skills, cols_to_keep)\n",
    "knowledge = filter_columns(knowledge, cols_to_keep)\n",
    "education_experience = filter_columns(education_experience, cols_to_keep_ee)"
   ]
  },
  {
   "cell_type": "code",
   "execution_count": 8,
   "metadata": {},
   "outputs": [],
   "source": [
    "# Create education DF\n",
    "\n",
    "education = education_experience[education_experience['Scale ID'] == 'RL']\n",
    "education = education[education['Category'].isin([5,6,7,8,9,10,11,12])] #Filtered only Associate, Bachelor, Master and Doctoral degrees and other certificates (7,9,10)"
   ]
  },
  {
   "cell_type": "code",
   "execution_count": 9,
   "metadata": {},
   "outputs": [],
   "source": [
    "# Create experience DF\n",
    "\n",
    "experience = education_experience[education_experience['Scale ID'] == 'RW']"
   ]
  },
  {
   "cell_type": "markdown",
   "metadata": {},
   "source": [
    "#### Default jobs to test comparison"
   ]
  },
  {
   "cell_type": "code",
   "execution_count": 10,
   "metadata": {},
   "outputs": [],
   "source": [
    "job1 = \"Executive Secretaries and Executive Administrative Assistants\""
   ]
  },
  {
   "cell_type": "code",
   "execution_count": 11,
   "metadata": {},
   "outputs": [],
   "source": [
    "job2 = \"Human Resources Managers\""
   ]
  },
  {
   "cell_type": "markdown",
   "metadata": {},
   "source": [
    "# 3. Comparison functions <a name=\"3\"></a>"
   ]
  },
  {
   "cell_type": "markdown",
   "metadata": {},
   "source": [
    "## 3.A. Education <a name=\"3A\"></a>"
   ]
  },
  {
   "cell_type": "markdown",
   "metadata": {},
   "source": [
    "### 3.A.a. Functions <a name=\"3Aa\"></a>"
   ]
  },
  {
   "cell_type": "code",
   "execution_count": 12,
   "metadata": {},
   "outputs": [],
   "source": [
    "def get_job_ed_stats(job):\n",
    "    job_ed = education[education['Title'] == job]\n",
    "    \n",
    "    job_5 = job_ed.loc[job_ed['Category'] == 5, 'Data Value'].sum() #select value\n",
    "    job_5_to100 = job_5 *100/(job_ed['Data Value'].sum()) #bring to 100 scale in case all values aren't included for this job\n",
    "\n",
    "    job_6 = job_ed.loc[job_ed['Category'].isin([6,7]), 'Data Value'].sum()\n",
    "    job_6_to100 = job_6 *100/(job_ed['Data Value'].sum())\n",
    "\n",
    "    job_8 = job_ed.loc[job_ed['Category'].isin([8,9,10]), 'Data Value'].sum()\n",
    "    job_8_to100 = job_8 *100/(job_ed['Data Value'].sum())\n",
    "\n",
    "    job_11 = job_ed.loc[job_ed['Category'].isin([11,12]), 'Data Value'].sum()\n",
    "    job_11_to100 = job_11 *100/(job_ed['Data Value'].sum())\n",
    "        \n",
    "    return pd.Series([job_5_to100, job_6_to100, job_8_to100, job_11_to100], index=[\"Associate\", \"Bachelor\", \"Master\", \"Doctorate\"])\n",
    "    "
   ]
  },
  {
   "cell_type": "code",
   "execution_count": 42,
   "metadata": {},
   "outputs": [],
   "source": [
    "def compare_ed(job1, job2):\n",
    "    \n",
    "    job1_stats_lst = get_job_ed_stats(job1).tolist()\n",
    "    job2_stats_lst = get_job_ed_stats(job2).tolist()\n",
    "    idx_max_job1 = np.argmax(job1_stats_lst)\n",
    "    idx_max_job2 = np.argmax(job2_stats_lst)\n",
    "    \n",
    "    if idx_max_job2 > idx_max_job1:\n",
    "        level = 2\n",
    "\n",
    "    elif idx_max_job2 == idx_max_job1:\n",
    "        level = 1\n",
    "\n",
    "    else:\n",
    "        level = 0\n",
    "        \n",
    "    return level\n",
    "\n",
    "def ed_info(job):\n",
    "    label_max_job = get_job_ed_stats(job).idxmax().lower()\n",
    "    if label_max_job == 'none':\n",
    "        to_print = \"In general, {} do not hold a college degree.\".format(job)\n",
    "    elif label_max_job.startswith('a'):\n",
    "        to_print = \"In general, {} hold an {} degree.\".format(job, label_max_job)\n",
    "    else:\n",
    "        to_print = \"In general, {} hold a {} degree.\".format(job, label_max_job)\n",
    "    return to_print"
   ]
  },
  {
   "cell_type": "code",
   "execution_count": 43,
   "metadata": {},
   "outputs": [
    {
     "data": {
      "text/plain": [
       "2"
      ]
     },
     "execution_count": 43,
     "metadata": {},
     "output_type": "execute_result"
    }
   ],
   "source": [
    "# 2 is higher, 1 is similar, 0 is lower\n",
    "compare_ed(job1, job2)"
   ]
  },
  {
   "cell_type": "code",
   "execution_count": 44,
   "metadata": {},
   "outputs": [
    {
     "data": {
      "text/plain": [
       "'In general, Human Resources Managers hold a bachelor degree.'"
      ]
     },
     "execution_count": 44,
     "metadata": {},
     "output_type": "execute_result"
    }
   ],
   "source": [
    "ed_info(job2)"
   ]
  },
  {
   "cell_type": "markdown",
   "metadata": {},
   "source": [
    "### 3.A.b. Visualization with Matplotlib <a name=\"3Ab\"></a>"
   ]
  },
  {
   "cell_type": "code",
   "execution_count": 118,
   "metadata": {},
   "outputs": [],
   "source": [
    "def show_radar_ed(job1, job2):\n",
    "\n",
    "    # Data\n",
    "    labels = get_job_ed_stats(job1).index\n",
    "    angles=np.linspace(0, 2*np.pi, len(labels), endpoint=False)\n",
    "    angles=np.concatenate((angles,[angles[0]]))\n",
    "    \n",
    "    stats_1 = get_job_ed_stats(job1).tolist()\n",
    "    stats_2 = get_job_ed_stats(job2).tolist()\n",
    "    \n",
    "    stats_1=np.concatenate((stats_1,[stats_1[0]]))\n",
    "    stats_2=np.concatenate((stats_2,[stats_2[0]]))\n",
    "    \n",
    "    # Figure\n",
    "    fig = plt.figure(figsize=(6,6), dpi= 80)\n",
    "    \n",
    "    # Colors\n",
    "    colors=['#81c784', '#42a5f5']\n",
    "    \n",
    "    # Plot\n",
    "    ax = fig.add_subplot(111, polar=True)\n",
    "    ax.plot(angles, stats_1, color=colors[0], linewidth=2)\n",
    "    ax.plot(angles, stats_2, color=colors[1], linewidth=2)\n",
    "    ax.fill(angles, stats_1, color=colors[0], alpha=0.25)\n",
    "    ax.fill(angles, stats_2, color=colors[1], alpha=0.25)\n",
    "    ax.set_thetagrids(angles * 180/np.pi, labels)\n",
    "    ax.set_title(job1)\n",
    "    ax.grid(True)\n",
    "    \n",
    "    # Title\n",
    "    plt.title(\"From {} to {}\".format(job1, job2), fontsize=15)\n",
    "    # Legend\n",
    "    plt.legend({group:col for group, col in zip([job1, job2], colors)})\n",
    "    \n",
    "    plt.show()"
   ]
  },
  {
   "cell_type": "code",
   "execution_count": 119,
   "metadata": {},
   "outputs": [
    {
     "data": {
      "image/png": "[encoded data removed]",
      "text/plain": [
       "<Figure size 480x480 with 1 Axes>"
      ]
     },
     "metadata": {},
     "output_type": "display_data"
    }
   ],
   "source": [
    "show_radar_ed(job1, job2)"
   ]
  },
  {
   "cell_type": "markdown",
   "metadata": {},
   "source": [
    "### 3.A.c. Prepare data for visualization with Chart.js <a name=\"3Ac\"></a>"
   ]
  },
  {
   "cell_type": "markdown",
   "metadata": {},
   "source": [
    "#### radar_src"
   ]
  },
  {
   "cell_type": "code",
   "execution_count": 16,
   "metadata": {},
   "outputs": [
    {
     "data": {
      "text/plain": [
       "[62.98023125699367, 22.1372622155912, 14.882506527415144, 0.0]"
      ]
     },
     "execution_count": 16,
     "metadata": {},
     "output_type": "execute_result"
    }
   ],
   "source": [
    "get_job_ed_stats(job1).tolist()"
   ]
  },
  {
   "cell_type": "markdown",
   "metadata": {},
   "source": [
    "#### radar_tgt"
   ]
  },
  {
   "cell_type": "code",
   "execution_count": 17,
   "metadata": {},
   "outputs": [
    {
     "data": {
      "text/plain": [
       "[4.55, 77.27000000000001, 18.18, 0.0]"
      ]
     },
     "execution_count": 17,
     "metadata": {},
     "output_type": "execute_result"
    }
   ],
   "source": [
    "get_job_ed_stats(job2).tolist()"
   ]
  },
  {
   "cell_type": "markdown",
   "metadata": {},
   "source": [
    "## 3.B. Experience <a name=\"3B\"></a>"
   ]
  },
  {
   "cell_type": "markdown",
   "metadata": {},
   "source": [
    "### 3.B.a. Functions <a name=\"3Ba\"></a>"
   ]
  },
  {
   "cell_type": "code",
   "execution_count": 18,
   "metadata": {},
   "outputs": [],
   "source": [
    "def get_job_exp_stats(job):\n",
    "    \n",
    "    job_exp = experience[experience['Title'] == job]\n",
    "    \n",
    "    exp_categories = e_categories.loc[e_categories[\"Scale ID\"] == \"RW\", \"Category Description\"]\n",
    "    \n",
    "    return pd.Series(data = job_exp[\"Data Value\"].tolist(), index = exp_categories.tolist())"
   ]
  },
  {
   "cell_type": "code",
   "execution_count": 45,
   "metadata": {},
   "outputs": [],
   "source": [
    "def compare_exp(job1, job2):\n",
    "    \n",
    "    job1_stats_lst = get_job_exp_stats(job1).tolist()\n",
    "    job2_stats_lst = get_job_exp_stats(job2).tolist()\n",
    "    idx_max_job1 = np.argmax(job1_stats_lst)\n",
    "    idx_max_job2 = np.argmax(job2_stats_lst)\n",
    "    \n",
    "    if idx_max_job2 > idx_max_job1:\n",
    "        level = 2\n",
    "\n",
    "    elif idx_max_job2 == idx_max_job1:\n",
    "        level = 1\n",
    "        \n",
    "    else:\n",
    "        level = 0\n",
    "\n",
    "    return level\n",
    "\n",
    "def exp_info(job):\n",
    "    label_max_job = get_job_exp_stats(job).idxmax().lower()\n",
    "    if label_max_job == 'none':\n",
    "        to_print = \"In general, {} do not have any prior experience.\".format(job)\n",
    "    else:\n",
    "        to_print = \"In general, {} have {} of experience.\".format(job, label_max_job)\n",
    "    return to_print"
   ]
  },
  {
   "cell_type": "code",
   "execution_count": 46,
   "metadata": {},
   "outputs": [
    {
     "data": {
      "text/plain": [
       "2"
      ]
     },
     "execution_count": 46,
     "metadata": {},
     "output_type": "execute_result"
    }
   ],
   "source": [
    "# 2 is higher, 1 is similar, 0 is lower\n",
    "compare_exp(job1, job2)"
   ]
  },
  {
   "cell_type": "code",
   "execution_count": 47,
   "metadata": {},
   "outputs": [
    {
     "data": {
      "text/plain": [
       "'In general, Human Resources Managers have over 4 years, up to and including 6 years of experience.'"
      ]
     },
     "execution_count": 47,
     "metadata": {},
     "output_type": "execute_result"
    }
   ],
   "source": [
    "exp_info(job2)"
   ]
  },
  {
   "cell_type": "markdown",
   "metadata": {},
   "source": [
    "## 3.C. Skills <a name=\"3C\"></a>"
   ]
  },
  {
   "cell_type": "markdown",
   "metadata": {},
   "source": [
    "### 3.C.a. Functions <a name=\"3Ca\"></a>"
   ]
  },
  {
   "cell_type": "code",
   "execution_count": 22,
   "metadata": {},
   "outputs": [],
   "source": [
    "def get_skills(job):\n",
    "    return skills[skills[\"Title\"] == job] \n",
    "\n",
    "def get_skills_im(job):\n",
    "    job_skills = get_skills(job)\n",
    "    return job_skills.loc[job_skills[\"Scale ID\"] == \"IM\"].sort_values(by = \"Data Value\", ascending = False).head(10)[\"Element Name\"].tolist()\n",
    "\n",
    "def get_skills_lv(job1, job2):\n",
    "\n",
    "    job1_skills = get_skills(job1)\n",
    "    job2_skills = get_skills(job2)\n",
    "    \n",
    "    skills_im = get_skills_im(job2)\n",
    "    \n",
    "    job1_skills_lv = []\n",
    "    job2_skills_lv = []\n",
    "    gap_skills_lv = []\n",
    "\n",
    "    for s in skills_im:\n",
    "        dv1 = job1_skills.loc[(job1_skills[\"Scale ID\"] == \"LV\") & (job1_skills[\"Element Name\"] == s),\"Data Value\"].iloc[0]\n",
    "        dv2 = job2_skills.loc[(job2_skills[\"Scale ID\"] == \"LV\") & (job2_skills[\"Element Name\"] == s),\"Data Value\"].iloc[0]\n",
    "        job1_skills_lv.append(dv1)\n",
    "        job2_skills_lv.append(dv2)\n",
    "        comp = dv2 - dv1\n",
    "        gap_skills_lv.append(comp)\n",
    "        \n",
    "    return pd.DataFrame(data = {job1: job1_skills_lv, job2: job2_skills_lv, \"Gap\": gap_skills_lv}, index = skills_im, columns = [job1, job2, \"Gap\"])\n"
   ]
  },
  {
   "cell_type": "markdown",
   "metadata": {},
   "source": [
    "### 3.C.b. Visualization with Matplotlib <a name=\"3Cb\"></a>"
   ]
  },
  {
   "cell_type": "code",
   "execution_count": 138,
   "metadata": {},
   "outputs": [],
   "source": [
    "def show_bar_skills(job1, job2):\n",
    "    \n",
    "    # Data\n",
    "    labels_skills = get_skills_lv(job1, job2).index.tolist()\n",
    "    data_1_skills = get_skills_lv(job1, job2).iloc[:,0].tolist()\n",
    "    data_2_skills = get_skills_lv(job1, job2).iloc[:,1].tolist()\n",
    "    \n",
    "    n_skills = len(labels_skills)\n",
    "    \n",
    "    # Figure\n",
    "    plt.figure(figsize=(8,6), dpi= 80)\n",
    "    \n",
    "    # Colors\n",
    "    colors=['#81c784', '#42a5f5']\n",
    "    \n",
    "    # Plot\n",
    "    y = np.arange(n_skills)\n",
    "    plt.barh(y, width= data_2_skills[::-1], color=colors[0])\n",
    "    plt.barh(y, width= data_1_skills[::-1], color=colors[1])\n",
    "\n",
    "    \n",
    "    # Style\n",
    "    plt.yticks(ticks=range(n_skills), labels=labels_skills)\n",
    "    # Title\n",
    "    plt.title(\"From {} to {}\".format(job1, job2), fontsize=15)\n",
    "    # Legend\n",
    "    plt.legend({group:col for group, col in zip(['Gap', 'Current'], colors)}, loc='upper right')\n",
    "    # Spines \n",
    "    plt.gca().spines[\"top\"].set_alpha(.3)\n",
    "    plt.gca().spines[\"bottom\"].set_alpha(.3)\n",
    "    plt.gca().spines[\"right\"].set_alpha(.3)\n",
    "    plt.gca().spines[\"left\"].set_alpha(.3)"
   ]
  },
  {
   "cell_type": "code",
   "execution_count": 139,
   "metadata": {},
   "outputs": [
    {
     "data": {
      "image/png": "[encoded data removed]",
      "text/plain": [
       "<Figure size 640x480 with 1 Axes>"
      ]
     },
     "metadata": {},
     "output_type": "display_data"
    }
   ],
   "source": [
    "show_bar_skills(job1, job2)"
   ]
  },
  {
   "cell_type": "markdown",
   "metadata": {},
   "source": [
    "### 3.C.c. Prepare data for visualization with Chart.js <a name=\"3Cc\"></a>"
   ]
  },
  {
   "cell_type": "markdown",
   "metadata": {},
   "source": [
    "#### bar1_lbl"
   ]
  },
  {
   "cell_type": "code",
   "execution_count": 23,
   "metadata": {},
   "outputs": [
    {
     "data": {
      "text/plain": [
       "['Management of Personnel Resources',\n",
       " 'Active Listening',\n",
       " 'Speaking',\n",
       " 'Social Perceptiveness',\n",
       " 'Critical Thinking',\n",
       " 'Coordination',\n",
       " 'Reading Comprehension',\n",
       " 'Judgment and Decision Making',\n",
       " 'Negotiation',\n",
       " 'Monitoring']"
      ]
     },
     "execution_count": 23,
     "metadata": {},
     "output_type": "execute_result"
    }
   ],
   "source": [
    "get_skills_lv(job1, job2).index.tolist()"
   ]
  },
  {
   "cell_type": "markdown",
   "metadata": {},
   "source": [
    "#### bar1_src"
   ]
  },
  {
   "cell_type": "code",
   "execution_count": 24,
   "metadata": {},
   "outputs": [
    {
     "data": {
      "text/plain": [
       "[2.38, 4.0, 3.88, 3.12, 3.75, 3.0, 4.0, 2.88, 2.62, 3.62]"
      ]
     },
     "execution_count": 24,
     "metadata": {},
     "output_type": "execute_result"
    }
   ],
   "source": [
    "get_skills_lv(job1, job2).iloc[:,0].tolist()"
   ]
  },
  {
   "cell_type": "markdown",
   "metadata": {},
   "source": [
    "#### bar1_tgt"
   ]
  },
  {
   "cell_type": "code",
   "execution_count": 25,
   "metadata": {},
   "outputs": [
    {
     "data": {
      "text/plain": [
       "[2.24,\n",
       " 0.3799999999999999,\n",
       " 0.1200000000000001,\n",
       " 1.0,\n",
       " 0.5,\n",
       " 1.12,\n",
       " 0.25,\n",
       " 1.2400000000000002,\n",
       " 1.38,\n",
       " 0.7599999999999998]"
      ]
     },
     "execution_count": 25,
     "metadata": {},
     "output_type": "execute_result"
    }
   ],
   "source": [
    "get_skills_lv(job1, job2).iloc[:,-1].tolist()"
   ]
  },
  {
   "cell_type": "markdown",
   "metadata": {},
   "source": [
    "## 3.D. Knowledge <a name=\"3D\"></a>"
   ]
  },
  {
   "cell_type": "markdown",
   "metadata": {},
   "source": [
    "### 3.D.a. Functions <a name=\"3Da\"></a>"
   ]
  },
  {
   "cell_type": "code",
   "execution_count": 26,
   "metadata": {},
   "outputs": [],
   "source": [
    "def get_know(job):\n",
    "    return knowledge[knowledge[\"Title\"] == job]  \n",
    "\n",
    "def get_know_im(job):\n",
    "    job_know = get_know(job)\n",
    "    return job_know.loc[job_know[\"Scale ID\"] == \"IM\"].sort_values(by = \"Data Value\", ascending = False).head(10)[\"Element Name\"].tolist()\n",
    "\n",
    "def get_know_lv(job1, job2):\n",
    "\n",
    "    job1_know = get_know(job1)\n",
    "    job2_know = get_know(job2)\n",
    "    \n",
    "    know_im = get_know_im(job2)\n",
    "    \n",
    "    job1_know_lv = []\n",
    "    job2_know_lv = []\n",
    "    gap_know_lv = []\n",
    "\n",
    "    for s in know_im:\n",
    "        dv1 = job1_know.loc[(job1_know[\"Scale ID\"] == \"LV\") & (job1_know[\"Element Name\"] == s),\"Data Value\"].iloc[0]\n",
    "        dv2 = job2_know.loc[(job2_know[\"Scale ID\"] == \"LV\") & (job2_know[\"Element Name\"] == s),\"Data Value\"].iloc[0]\n",
    "        job1_know_lv.append(dv1)\n",
    "        job2_know_lv.append(dv2)\n",
    "        comp = dv2 - dv1\n",
    "        gap_know_lv.append(comp)\n",
    "        \n",
    "    return pd.DataFrame(data = {job1: job1_know_lv, job2: job2_know_lv, \"Gap\": gap_know_lv}, index = know_im, columns = [job1, job2, \"Gap\"])\n"
   ]
  },
  {
   "cell_type": "markdown",
   "metadata": {},
   "source": [
    "### 3.D.b. Visualization with Matplotlib <a name=\"3Db\"></a>"
   ]
  },
  {
   "cell_type": "code",
   "execution_count": 140,
   "metadata": {},
   "outputs": [],
   "source": [
    "def show_bar_know(job1, job2):\n",
    "    \n",
    "    # Data\n",
    "    labels_know = list(get_know_lv(job1, job2).index)\n",
    "    data_1_know = get_know_lv(job1, job2).iloc[:,0].tolist()\n",
    "    data_2_know = get_know_lv(job1, job2).iloc[:,1].tolist()\n",
    "    \n",
    "    n_know = len(labels_know)\n",
    "    \n",
    "    # Figure\n",
    "    plt.figure(figsize=(6,6), dpi= 80)\n",
    "    \n",
    "    # Colors\n",
    "    colors=['#81c784', '#42a5f5']\n",
    "    \n",
    "    # Plot\n",
    "    y = np.arange(n_know)\n",
    "    plt.barh(y, width= data_2_know[::-1], color=colors[0])\n",
    "    plt.barh(y, width= data_1_know[::-1], color=colors[1])\n",
    "    \n",
    "    # Style\n",
    "    plt.yticks(ticks=range(n_know), labels=labels_know)\n",
    "    # Title\n",
    "    plt.title(\"From {} to {}\".format(job1, job2), fontsize=15)\n",
    "    # Legend\n",
    "    plt.legend({group:col for group, col in zip(['Gap', 'Current'], colors)}, loc='upper right')\n",
    "    # Spines \n",
    "    plt.gca().spines[\"top\"].set_alpha(.3)\n",
    "    plt.gca().spines[\"bottom\"].set_alpha(.3)\n",
    "    plt.gca().spines[\"right\"].set_alpha(.3)\n",
    "    plt.gca().spines[\"left\"].set_alpha(.3)"
   ]
  },
  {
   "cell_type": "code",
   "execution_count": 141,
   "metadata": {},
   "outputs": [
    {
     "data": {
      "image/png": "[encoded data removed]",
      "text/plain": [
       "<Figure size 480x480 with 1 Axes>"
      ]
     },
     "metadata": {},
     "output_type": "display_data"
    }
   ],
   "source": [
    "show_bar_know(job1, job2)"
   ]
  },
  {
   "cell_type": "markdown",
   "metadata": {},
   "source": [
    "### 3.D.c. Prepare data for visualization with Chart.js <a name=\"3Dc\"></a>"
   ]
  },
  {
   "cell_type": "markdown",
   "metadata": {},
   "source": [
    "#### bar2_lbl"
   ]
  },
  {
   "cell_type": "code",
   "execution_count": 27,
   "metadata": {},
   "outputs": [
    {
     "data": {
      "text/plain": [
       "['Personnel and Human Resources',\n",
       " 'Administration and Management',\n",
       " 'English Language',\n",
       " 'Customer and Personal Service',\n",
       " 'Law and Government',\n",
       " 'Psychology',\n",
       " 'Education and Training',\n",
       " 'Mathematics',\n",
       " 'Clerical',\n",
       " 'Sociology and Anthropology']"
      ]
     },
     "execution_count": 27,
     "metadata": {},
     "output_type": "execute_result"
    }
   ],
   "source": [
    "get_know_lv(job1, job2).index.tolist()"
   ]
  },
  {
   "cell_type": "markdown",
   "metadata": {},
   "source": [
    "#### bar2_src"
   ]
  },
  {
   "cell_type": "code",
   "execution_count": 28,
   "metadata": {},
   "outputs": [
    {
     "data": {
      "text/plain": [
       "[2.66, 3.28, 3.97, 3.75, 2.07, 1.49, 2.11, 2.78, 6.03, 1.21]"
      ]
     },
     "execution_count": 28,
     "metadata": {},
     "output_type": "execute_result"
    }
   ],
   "source": [
    "get_know_lv(job1, job2).iloc[:,0].tolist()"
   ]
  },
  {
   "cell_type": "markdown",
   "metadata": {},
   "source": [
    "#### bar2_tgt"
   ]
  },
  {
   "cell_type": "code",
   "execution_count": 29,
   "metadata": {},
   "outputs": [
    {
     "data": {
      "text/plain": [
       "[2.8899999999999997,\n",
       " 1.5800000000000005,\n",
       " 0.5299999999999998,\n",
       " 1.1100000000000003,\n",
       " 1.98,\n",
       " 2.87,\n",
       " 2.89,\n",
       " 1.4,\n",
       " -1.2700000000000005,\n",
       " 2.29]"
      ]
     },
     "execution_count": 29,
     "metadata": {},
     "output_type": "execute_result"
    }
   ],
   "source": [
    "get_know_lv(job1, job2).iloc[:,-1].tolist()"
   ]
  },
  {
   "cell_type": "markdown",
   "metadata": {},
   "source": [
    "## 3.E. Estimated transition difficulty  <a name=\"3E\"></a>"
   ]
  },
  {
   "cell_type": "code",
   "execution_count": 30,
   "metadata": {},
   "outputs": [],
   "source": [
    "def gap(job1, job2):\n",
    "    skills_gap = get_skills_lv(job1, job2).iloc[:,-1].sum()\n",
    "    knowledge_gap = get_know_lv(job1, job2).iloc[:,-1].sum()\n",
    "    total = skills_gap + knowledge_gap\n",
    "    \n",
    "    if total < 10:\n",
    "        difficulty = 0\n",
    "    elif total < 30:\n",
    "        difficulty = 1\n",
    "    else:\n",
    "        difficulty = 2\n",
    "    \n",
    "    return difficulty"
   ]
  },
  {
   "cell_type": "code",
   "execution_count": 31,
   "metadata": {
    "scrolled": true
   },
   "outputs": [
    {
     "data": {
      "text/plain": [
       "1"
      ]
     },
     "execution_count": 31,
     "metadata": {},
     "output_type": "execute_result"
    }
   ],
   "source": [
    "# 0 is low, 1 is medium, 2 is high\n",
    "gap(job1, job2)"
   ]
  },
  {
   "cell_type": "markdown",
   "metadata": {},
   "source": [
    "## 3.F. Generate & export Json  <a name=\"3F\"></a>"
   ]
  },
  {
   "cell_type": "code",
   "execution_count": 32,
   "metadata": {},
   "outputs": [],
   "source": [
    "def gen_json(job1, job2):\n",
    "    result = {\"source_job_name\": job1,\n",
    "              \"target_job_name\" : job2,\n",
    "              \"transition_gen\" : gap(job1, job2),\n",
    "              \"education_level\": compare_ed(job1, job2),\n",
    "              \"education_comp\" : ed_info(job2),\n",
    "              \"radar_src\" : get_job_ed_stats(job1).tolist(),\n",
    "              \"radar_tgt\" : get_job_ed_stats(job2).tolist(),\n",
    "              \"experience_level\" : compare_exp(job1, job2),\n",
    "              \"experience_comp\" : exp_info(job2),\n",
    "              \"bar1_lbl\" : get_skills_lv(job1, job2).index.tolist(),\n",
    "              \"bar1_src\" : get_skills_lv(job1, job2).iloc[:,0].tolist(),\n",
    "              \"bar1_tgt\" : get_skills_lv(job1, job2).iloc[:,-1].tolist(),\n",
    "              \"bar2_lbl\" : get_know_lv(job1, job2).index.tolist(),\n",
    "              \"bar2_src\" : get_know_lv(job1, job2).iloc[:,0].tolist(),\n",
    "              \"bar2_tgt\" : get_know_lv(job1, job2).iloc[:,-1].tolist()\n",
    "             }\n",
    "    \n",
    "    return result"
   ]
  },
  {
   "cell_type": "code",
   "execution_count": 33,
   "metadata": {},
   "outputs": [],
   "source": [
    "import json"
   ]
  },
  {
   "cell_type": "code",
   "execution_count": 34,
   "metadata": {},
   "outputs": [],
   "source": [
    "result = gen_json(job1, job2)"
   ]
  },
  {
   "cell_type": "code",
   "execution_count": 35,
   "metadata": {},
   "outputs": [
    {
     "name": "stdout",
     "output_type": "stream",
     "text": [
      "{\n",
      "    \"source_job_name\": \"Executive Secretaries and Executive Administrative Assistants\",\n",
      "    \"target_job_name\": \"Human Resources Managers\",\n",
      "    \"transition_gen\": 1,\n",
      "    \"education_level\": 2,\n",
      "    \"education_comp\": \"In general, Human Resources Managers hold a Bachelor degree.\",\n",
      "    \"radar_src\": [\n",
      "        62.98023125699367,\n",
      "        22.1372622155912,\n",
      "        14.882506527415144,\n",
      "        0.0\n",
      "    ],\n",
      "    \"radar_tgt\": [\n",
      "        4.55,\n",
      "        77.27000000000001,\n",
      "        18.18,\n",
      "        0.0\n",
      "    ],\n",
      "    \"experience_level\": 2,\n",
      "    \"experience_comp\": \"In general, Human Resources Managers have Over 4 years, up to and including 6 years of experience.\",\n",
      "    \"bar1_lbl\": [\n",
      "        \"Management of Personnel Resources\",\n",
      "        \"Active Listening\",\n",
      "        \"Speaking\",\n",
      "        \"Social Perceptiveness\",\n",
      "        \"Critical Thinking\",\n",
      "        \"Coordination\",\n",
      "        \"Reading Comprehension\",\n",
      "        \"Judgment and Decision Making\",\n",
      "        \"Negotiation\",\n",
      "        \"Monitoring\"\n",
      "    ],\n",
      "    \"bar1_src\": [\n",
      "        2.38,\n",
      "        4.0,\n",
      "        3.88,\n",
      "        3.12,\n",
      "        3.75,\n",
      "        3.0,\n",
      "        4.0,\n",
      "        2.88,\n",
      "        2.62,\n",
      "        3.62\n",
      "    ],\n",
      "    \"bar1_tgt\": [\n",
      "        2.24,\n",
      "        0.3799999999999999,\n",
      "        0.1200000000000001,\n",
      "        1.0,\n",
      "        0.5,\n",
      "        1.12,\n",
      "        0.25,\n",
      "        1.2400000000000002,\n",
      "        1.38,\n",
      "        0.7599999999999998\n",
      "    ],\n",
      "    \"bar2_lbl\": [\n",
      "        \"Personnel and Human Resources\",\n",
      "        \"Administration and Management\",\n",
      "        \"English Language\",\n",
      "        \"Customer and Personal Service\",\n",
      "        \"Law and Government\",\n",
      "        \"Psychology\",\n",
      "        \"Education and Training\",\n",
      "        \"Mathematics\",\n",
      "        \"Clerical\",\n",
      "        \"Sociology and Anthropology\"\n",
      "    ],\n",
      "    \"bar2_src\": [\n",
      "        2.66,\n",
      "        3.28,\n",
      "        3.97,\n",
      "        3.75,\n",
      "        2.07,\n",
      "        1.49,\n",
      "        2.11,\n",
      "        2.78,\n",
      "        6.03,\n",
      "        1.21\n",
      "    ],\n",
      "    \"bar2_tgt\": [\n",
      "        2.8899999999999997,\n",
      "        1.5800000000000005,\n",
      "        0.5299999999999998,\n",
      "        1.1100000000000003,\n",
      "        1.98,\n",
      "        2.87,\n",
      "        2.89,\n",
      "        1.4,\n",
      "        -1.2700000000000005,\n",
      "        2.29\n",
      "    ]\n",
      "}\n"
     ]
    }
   ],
   "source": [
    "print(json.dumps(result, indent=4))"
   ]
  },
  {
   "cell_type": "markdown",
   "metadata": {},
   "source": [
    "{\n",
    "  \"source_job_name\": \"Executive Secretaries and Executive Administrative Assistants\",\n",
    "  \"target_job_name\": \"Human Resources Managers\",\n",
    "  \"transition_gen\": 1,\n",
    "  \"education_level\": 2,\n",
    "  \"education_comp\": \"In general, Human Resources Managers hold at least a Bachelor degree.\",\n",
    "  \"radar_src\": [62.98023125699367, 22.1372622155912, 14.882506527415144, 0.0],\n",
    "  \"radar_tgt\": [4.55, 77.27000000000001, 18.18, 0.0],\n",
    "  \"experience_level\": 2,\n",
    "  \"experience_comp\": \"In general, Human Resources Managers have at least Over 4 years, up to and including 6 years of experience.\",\n",
    "  \"bar1_lbl\":[\"Management of Personnel Resources\",\n",
    " \"Active Listening\",\n",
    " \"Speaking\",\n",
    " \"Social Perceptiveness\",\n",
    " \"Critical Thinking\",\n",
    " \"Coordination\",\n",
    " \"Reading Comprehension\",\n",
    " \"Judgment and Decision Making\",\n",
    " \"Negotiation\",\n",
    " \"Monitoring\"],\n",
    "  \"bar1_src\":[2.38, 4.0, 3.88, 3.12, 3.75, 3.0, 4.0, 2.88, 2.62, 3.62],\n",
    "  \"bar1_tgt\": [2.24, 0.3799999999999999, 0.1200000000000001, 1.0, 0.5, 1.12, 0.25, 1.2400000000000002, 1.38, 0.7599999999999998],\n",
    "  \"bar2_lbl\": [\"Personnel and Human Resources\", \"Administration and Management\", \"English Language\", \"Customer and Personal Service\", \"Law and Government\", \"Psychology\", \"Education and Training\", \"Mathematics\", \"Clerical\", \"Sociology and Anthropology\"],\n",
    "  \"bar2_src\":[2.66, 3.28, 3.97, 3.75, 2.07, 1.49, 2.11, 2.78, 6.03, 1.21],\n",
    "  \"bar2_tgt\": [2.8899999999999997, 1.5800000000000005, 0.5299999999999998, 1.1100000000000003, 1.98, 2.87, 2.89, 1.4, -1.2700000000000005, 2.29]\n",
    "}"
   ]
  }
 ],
 "metadata": {
  "kernelspec": {
   "display_name": "Python 3",
   "language": "python",
   "name": "python3"
  },
  "language_info": {
   "codemirror_mode": {
    "name": "ipython",
    "version": 3
   },
   "file_extension": ".py",
   "mimetype": "text/x-python",
   "name": "python",
   "nbconvert_exporter": "python",
   "pygments_lexer": "ipython3",
   "version": "3.6.4"
  }
 },
 "nbformat": 4,
 "nbformat_minor": 2
}
